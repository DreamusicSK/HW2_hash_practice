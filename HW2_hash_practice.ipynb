{
 "cells": [
  {
   "cell_type": "code",
   "execution_count": 60,
   "id": "78beee62",
   "metadata": {},
   "outputs": [],
   "source": [
    "import pandas as pd\n",
    "data = open(\"./hw2_data.txt\")\n",
    "text = []\n",
    "\n",
    "#去除換行\n",
    "for i in data:\n",
    "    text.append(i.strip())\n"
   ]
  },
  {
   "cell_type": "code",
   "execution_count": 61,
   "id": "feda8745",
   "metadata": {},
   "outputs": [
    {
     "data": {
      "text/plain": [
       "{'Cheese': -1567062968362644060,\n",
       " 'Pizza': 7756432511450951637,\n",
       " 'Coke': -7664915884739364139,\n",
       " 'Steak': 2336506710025847462,\n",
       " 'Burger': -5219193705498162088,\n",
       " 'Fries': -2862649066596475925,\n",
       " 'Rib': -7626238435329221583,\n",
       " 'Taco': -780762794040384882,\n",
       " 'Pho': 5716261034709445737,\n",
       " 'Potato': -643131482349961776}"
      ]
     },
     "execution_count": 61,
     "metadata": {},
     "output_type": "execute_result"
    }
   ],
   "source": [
    "# 建立dict\n",
    "dict_label = {}\n",
    "dict_count = {}\n",
    "\n",
    "# 讀取資料\n",
    "for i in text:\n",
    "    if i in dict_label.keys():\n",
    "        dict_count[i] += 1\n",
    "        continue\n",
    "    else:\n",
    "        dict_label[i] = hash(i)\n",
    "        dict_count[i] = 1\n",
    "\n",
    "# python內建 Hash 函式練習\n",
    "dict_label"
   ]
  },
  {
   "cell_type": "code",
   "execution_count": 62,
   "id": "1480ed07",
   "metadata": {},
   "outputs": [
    {
     "name": "stdout",
     "output_type": "stream",
     "text": [
      "10\n"
     ]
    },
    {
     "data": {
      "text/plain": [
       "Cheese    234\n",
       "Pizza      83\n",
       "Coke      145\n",
       "Steak      46\n",
       "Burger    196\n",
       "Fries      76\n",
       "Rib        33\n",
       "Taco       57\n",
       "Pho        19\n",
       "Potato      3\n",
       "dtype: int64"
      ]
     },
     "execution_count": 62,
     "metadata": {},
     "output_type": "execute_result"
    }
   ],
   "source": [
    "#共有幾個不同的英文字\n",
    "print(len(dict_count))\n",
    "#英文字共出現幾次\n",
    "pd.Series(dict_count)\n"
   ]
  },
  {
   "cell_type": "code",
   "execution_count": null,
   "id": "64a5d217",
   "metadata": {},
   "outputs": [],
   "source": []
  },
  {
   "cell_type": "code",
   "execution_count": null,
   "id": "703cee1d",
   "metadata": {},
   "outputs": [],
   "source": []
  }
 ],
 "metadata": {
  "kernelspec": {
   "display_name": "Python 3",
   "language": "python",
   "name": "python3"
  },
  "language_info": {
   "codemirror_mode": {
    "name": "ipython",
    "version": 3
   },
   "file_extension": ".py",
   "mimetype": "text/x-python",
   "name": "python",
   "nbconvert_exporter": "python",
   "pygments_lexer": "ipython3",
   "version": "3.8.8"
  }
 },
 "nbformat": 4,
 "nbformat_minor": 5
}
